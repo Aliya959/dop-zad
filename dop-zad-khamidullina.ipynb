{
 "cells": [
  {
   "cell_type": "code",
   "execution_count": 2,
   "metadata": {},
   "outputs": [],
   "source": [
    "import numpy as np\n",
    "from scipy.stats import t\n",
    "from scipy.stats import norm\n",
    "import matplotlib.pyplot as plt\n",
    "from scipy import stats\n",
    "import pandas as pd\n",
    "import io\n",
    "import requests\n",
    "import seaborn as sns\n",
    "import statistics\n",
    "from sklearn.metrics import mean_squared_error, mean_absolute_error\n",
    "%matplotlib inline"
   ]
  },
  {
   "cell_type": "code",
   "execution_count": 7,
   "metadata": {
    "scrolled": true
   },
   "outputs": [
    {
     "data": {
      "text/html": [
       "<div>\n",
       "<style scoped>\n",
       "    .dataframe tbody tr th:only-of-type {\n",
       "        vertical-align: middle;\n",
       "    }\n",
       "\n",
       "    .dataframe tbody tr th {\n",
       "        vertical-align: top;\n",
       "    }\n",
       "\n",
       "    .dataframe thead th {\n",
       "        text-align: right;\n",
       "    }\n",
       "</style>\n",
       "<table border=\"1\" class=\"dataframe\">\n",
       "  <thead>\n",
       "    <tr style=\"text-align: right;\">\n",
       "      <th></th>\n",
       "      <th>Номер заказа</th>\n",
       "      <th>Вес груза</th>\n",
       "      <th>День</th>\n",
       "      <th>Количество коробок</th>\n",
       "      <th>Город отправки</th>\n",
       "      <th>Город доставки</th>\n",
       "    </tr>\n",
       "  </thead>\n",
       "  <tbody>\n",
       "    <tr>\n",
       "      <th>0</th>\n",
       "      <td>22</td>\n",
       "      <td>1122.21</td>\n",
       "      <td>1</td>\n",
       "      <td>157</td>\n",
       "      <td>Таллин</td>\n",
       "      <td>Санкт-Петербург</td>\n",
       "    </tr>\n",
       "    <tr>\n",
       "      <th>1</th>\n",
       "      <td>37</td>\n",
       "      <td>1110.50</td>\n",
       "      <td>1</td>\n",
       "      <td>148</td>\n",
       "      <td>Рига</td>\n",
       "      <td>Санкт-Петербург</td>\n",
       "    </tr>\n",
       "    <tr>\n",
       "      <th>2</th>\n",
       "      <td>64</td>\n",
       "      <td>1165.27</td>\n",
       "      <td>1</td>\n",
       "      <td>153</td>\n",
       "      <td>Москва</td>\n",
       "      <td>Рига</td>\n",
       "    </tr>\n",
       "    <tr>\n",
       "      <th>3</th>\n",
       "      <td>95</td>\n",
       "      <td>1157.63</td>\n",
       "      <td>1</td>\n",
       "      <td>153</td>\n",
       "      <td>Таллин</td>\n",
       "      <td>Санкт-Петербург</td>\n",
       "    </tr>\n",
       "    <tr>\n",
       "      <th>4</th>\n",
       "      <td>105</td>\n",
       "      <td>1000.52</td>\n",
       "      <td>1</td>\n",
       "      <td>145</td>\n",
       "      <td>Вильнюс</td>\n",
       "      <td>Санкт-Петербург</td>\n",
       "    </tr>\n",
       "  </tbody>\n",
       "</table>\n",
       "</div>"
      ],
      "text/plain": [
       "   Номер заказа  Вес груза  День  Количество коробок Город отправки  \\\n",
       "0            22    1122.21     1                 157         Таллин   \n",
       "1            37    1110.50     1                 148           Рига   \n",
       "2            64    1165.27     1                 153         Москва   \n",
       "3            95    1157.63     1                 153         Таллин   \n",
       "4           105    1000.52     1                 145        Вильнюс   \n",
       "\n",
       "    Город доставки  \n",
       "0  Санкт-Петербург  \n",
       "1  Санкт-Петербург  \n",
       "2             Рига  \n",
       "3  Санкт-Петербург  \n",
       "4  Санкт-Петербург  "
      ]
     },
     "execution_count": 7,
     "metadata": {},
     "output_type": "execute_result"
    }
   ],
   "source": [
    "df = pd.read_excel('C:/Users/User/Downloads/case1.xlsx', 'Заказы')\n",
    "df.head()"
   ]
  },
  {
   "cell_type": "code",
   "execution_count": 8,
   "metadata": {},
   "outputs": [
    {
     "data": {
      "text/html": [
       "<div>\n",
       "<style scoped>\n",
       "    .dataframe tbody tr th:only-of-type {\n",
       "        vertical-align: middle;\n",
       "    }\n",
       "\n",
       "    .dataframe tbody tr th {\n",
       "        vertical-align: top;\n",
       "    }\n",
       "\n",
       "    .dataframe thead th {\n",
       "        text-align: right;\n",
       "    }\n",
       "</style>\n",
       "<table border=\"1\" class=\"dataframe\">\n",
       "  <thead>\n",
       "    <tr style=\"text-align: right;\">\n",
       "      <th></th>\n",
       "      <th>Номер коробки</th>\n",
       "      <th>Номер заказа</th>\n",
       "      <th>Вес коробки</th>\n",
       "    </tr>\n",
       "  </thead>\n",
       "  <tbody>\n",
       "    <tr>\n",
       "      <th>0</th>\n",
       "      <td>1</td>\n",
       "      <td>1</td>\n",
       "      <td>5.88</td>\n",
       "    </tr>\n",
       "    <tr>\n",
       "      <th>1</th>\n",
       "      <td>2</td>\n",
       "      <td>1</td>\n",
       "      <td>5.69</td>\n",
       "    </tr>\n",
       "    <tr>\n",
       "      <th>2</th>\n",
       "      <td>3</td>\n",
       "      <td>1</td>\n",
       "      <td>3.69</td>\n",
       "    </tr>\n",
       "    <tr>\n",
       "      <th>3</th>\n",
       "      <td>4</td>\n",
       "      <td>1</td>\n",
       "      <td>5.56</td>\n",
       "    </tr>\n",
       "    <tr>\n",
       "      <th>4</th>\n",
       "      <td>5</td>\n",
       "      <td>1</td>\n",
       "      <td>3.45</td>\n",
       "    </tr>\n",
       "  </tbody>\n",
       "</table>\n",
       "</div>"
      ],
      "text/plain": [
       "   Номер коробки  Номер заказа  Вес коробки\n",
       "0              1             1         5.88\n",
       "1              2             1         5.69\n",
       "2              3             1         3.69\n",
       "3              4             1         5.56\n",
       "4              5             1         3.45"
      ]
     },
     "execution_count": 8,
     "metadata": {},
     "output_type": "execute_result"
    }
   ],
   "source": [
    "data = pd.read_excel('C:/Users/User/Downloads/case1.xlsx', 'Коробки по заказам')\n",
    "data.head()"
   ]
  },
  {
   "cell_type": "code",
   "execution_count": 31,
   "metadata": {
    "scrolled": true
   },
   "outputs": [
    {
     "data": {
      "text/plain": [
       "<matplotlib.collections.PathCollection at 0x13491d84df0>"
      ]
     },
     "execution_count": 31,
     "metadata": {},
     "output_type": "execute_result"
    },
    {
     "data": {
      "image/png": "[encoded data removed]",
      "text/plain": [
       "<Figure size 432x288 with 1 Axes>"
      ]
     },
     "metadata": {
      "needs_background": "light"
     },
     "output_type": "display_data"
    }
   ],
   "source": [
    "x = df['Количество коробок']\n",
    "y = df['Вес груза']\n",
    "plt.scatter(x, y, marker='.', facecolor='r')"
   ]
  },
  {
   "cell_type": "markdown",
   "metadata": {},
   "source": [
    "на графике видно, что при количестве коробок 140 вес груза не превышает веса 1,2 т"
   ]
  },
  {
   "cell_type": "code",
   "execution_count": 33,
   "metadata": {
    "scrolled": true
   },
   "outputs": [
    {
     "data": {
      "text/plain": [
       "<matplotlib.collections.PathCollection at 0x13491690e80>"
      ]
     },
     "execution_count": 33,
     "metadata": {},
     "output_type": "execute_result"
    },
    {
     "data": {
      "image/png": "[encoded data removed]",
      "text/plain": [
       "<Figure size 432x288 with 1 Axes>"
      ]
     },
     "metadata": {
      "needs_background": "light"
     },
     "output_type": "display_data"
    }
   ],
   "source": [
    "x = df['Вес груза']\n",
    "y = df['Город отправки']\n",
    "plt.scatter(x, y, marker='.', facecolor='r')"
   ]
  },
  {
   "cell_type": "markdown",
   "metadata": {},
   "source": [
    "на графике видно, что примерно 60% заказов в городе Таллин имеют вес груза меньше, чем 1,2 т"
   ]
  },
  {
   "cell_type": "code",
   "execution_count": 40,
   "metadata": {
    "scrolled": false
   },
   "outputs": [
    {
     "data": {
      "text/plain": [
       "0.10    138.0\n",
       "0.13    139.0\n",
       "0.15    140.0\n",
       "0.17    141.0\n",
       "0.25    144.0\n",
       "0.50    151.0\n",
       "Name: Количество коробок, dtype: float64"
      ]
     },
     "execution_count": 40,
     "metadata": {},
     "output_type": "execute_result"
    }
   ],
   "source": [
    "df['Количество коробок'].quantile([0.1,0.13,0.15,0.17,0.25,0.5])"
   ]
  },
  {
   "cell_type": "markdown",
   "metadata": {},
   "source": [
    "путем подбора параметра пришли к выводу, что 15% заказов имеют количество коробок равное 140 без учета веса груза и города отправки"
   ]
  },
  {
   "cell_type": "code",
   "execution_count": 88,
   "metadata": {},
   "outputs": [
    {
     "data": {
      "text/plain": [
       "0.9969    1199.777696\n",
       "1.0000    1227.330000\n",
       "Name: Вес груза, dtype: float64"
      ]
     },
     "execution_count": 88,
     "metadata": {},
     "output_type": "execute_result"
    }
   ],
   "source": [
    "t1 = order[order['Количество коробок'] < 141]\n",
    "t1['Вес груза'].quantile([0.9969, 1.00])"
   ]
  },
  {
   "cell_type": "markdown",
   "metadata": {},
   "source": [
    "зная то, что количество коробок 140, вычислили, что в 99,69% вес заказов не превышает 1,2 т"
   ]
  },
  {
   "cell_type": "code",
   "execution_count": 89,
   "metadata": {},
   "outputs": [
    {
     "data": {
      "text/plain": [
       "1.0    1184.6\n",
       "Name: Вес груза, dtype: float64"
      ]
     },
     "execution_count": 89,
     "metadata": {},
     "output_type": "execute_result"
    }
   ],
   "source": [
    "t1 = order[(order['Город отправки'] == 'Таллин') & (order['Количество коробок'] < 141)]\n",
    "t1['Вес груза'].quantile([1.00])"
   ]
  },
  {
   "cell_type": "markdown",
   "metadata": {},
   "source": [
    "получили, что в 100% случаев, при городе отправки Таллин и количестве коробок 140, вес груза не превышает 1,2 т"
   ]
  }
 ],
 "metadata": {
  "kernelspec": {
   "display_name": "Python 3",
   "language": "python",
   "name": "python3"
  },
  "language_info": {
   "codemirror_mode": {
    "name": "ipython",
    "version": 3
   },
   "file_extension": ".py",
   "mimetype": "text/x-python",
   "name": "python",
   "nbconvert_exporter": "python",
   "pygments_lexer": "ipython3",
   "version": "3.8.5"
  }
 },
 "nbformat": 4,
 "nbformat_minor": 4
}
